{
  "cells": [
    {
      "cell_type": "code",
      "execution_count": null,
      "id": "88d67c13-1dca-451c-85d5-eb234183c342",
      "metadata": {
        "id": "88d67c13-1dca-451c-85d5-eb234183c342"
      },
      "outputs": [],
      "source": [
        "import numpy as np\n",
        "import pandas as pd\n",
        "import matplotlib.pyplot as plt\n",
        "import yfinance as yf"
      ]
    },
    {
      "cell_type": "code",
      "source": [
        "from google.colab import drive\n",
        "drive.mount('/content/drive')"
      ],
      "metadata": {
        "id": "1oxhS2QNuV2u",
        "colab": {
          "base_uri": "https://localhost:8080/"
        },
        "outputId": "a37292d8-ec20-472f-96c3-92397ad0c059"
      },
      "id": "1oxhS2QNuV2u",
      "execution_count": null,
      "outputs": [
        {
          "output_type": "stream",
          "name": "stdout",
          "text": [
            "Mounted at /content/drive\n"
          ]
        }
      ]
    },
    {
      "cell_type": "code",
      "execution_count": null,
      "id": "f3bc102c-1442-4cae-9093-f77f2b7b7e0c",
      "metadata": {
        "colab": {
          "base_uri": "https://localhost:8080/"
        },
        "id": "f3bc102c-1442-4cae-9093-f77f2b7b7e0c",
        "outputId": "f251ca0d-6954-4689-c531-e4c2b34855de"
      },
      "outputs": [
        {
          "output_type": "stream",
          "name": "stderr",
          "text": [
            "\r[*********************100%***********************]  1 of 1 completed\n"
          ]
        }
      ],
      "source": [
        "start = '2012-01-01'\n",
        "end = '2024-06-28'\n",
        "stock = 'TSLA'\n",
        "\n",
        "data = yf.download(stock, start, end)"
      ]
    },
    {
      "cell_type": "code",
      "execution_count": null,
      "id": "8657c12a-ec44-4ea9-80c9-7ecbec9b0084",
      "metadata": {
        "id": "8657c12a-ec44-4ea9-80c9-7ecbec9b0084"
      },
      "outputs": [],
      "source": [
        "data.reset_index(inplace=True)"
      ]
    },
    {
      "cell_type": "code",
      "execution_count": null,
      "id": "e8fadd81-946b-47fc-b014-8ecf059302ce",
      "metadata": {
        "colab": {
          "base_uri": "https://localhost:8080/",
          "height": 455
        },
        "id": "e8fadd81-946b-47fc-b014-8ecf059302ce",
        "outputId": "c85482b6-4586-419b-fe64-e678baaf6a32"
      },
      "outputs": [
        {
          "output_type": "execute_result",
          "data": {
            "text/plain": [
              "Price        Date       Close        High         Low        Open    Volume\n",
              "Ticker                   TSLA        TSLA        TSLA        TSLA      TSLA\n",
              "0      2012-01-03    1.872000    1.966667    1.843333    1.929333  13921500\n",
              "1      2012-01-04    1.847333    1.911333    1.833333    1.880667   9451500\n",
              "2      2012-01-05    1.808000    1.862000    1.790000    1.850667  15082500\n",
              "3      2012-01-06    1.794000    1.852667    1.760667    1.813333  14794500\n",
              "4      2012-01-09    1.816667    1.832667    1.741333    1.800000  13455000\n",
              "...           ...         ...         ...         ...         ...       ...\n",
              "3136   2024-06-21  183.009995  183.949997  180.690002  182.300003  63029500\n",
              "3137   2024-06-24  182.580002  188.800003  182.550003  184.970001  61992100\n",
              "3138   2024-06-25  187.350006  187.970001  182.009995  184.399994  63678300\n",
              "3139   2024-06-26  196.369995  197.759995  186.360001  186.539993  95737100\n",
              "3140   2024-06-27  197.419998  198.720001  194.050003  195.169998  72746500\n",
              "\n",
              "[3141 rows x 6 columns]"
            ],
            "text/html": [
              "\n",
              "  <div id=\"df-763088fc-a4bf-43e4-9aac-a9900475059f\" class=\"colab-df-container\">\n",
              "    <div>\n",
              "<style scoped>\n",
              "    .dataframe tbody tr th:only-of-type {\n",
              "        vertical-align: middle;\n",
              "    }\n",
              "\n",
              "    .dataframe tbody tr th {\n",
              "        vertical-align: top;\n",
              "    }\n",
              "\n",
              "    .dataframe thead tr th {\n",
              "        text-align: left;\n",
              "    }\n",
              "</style>\n",
              "<table border=\"1\" class=\"dataframe\">\n",
              "  <thead>\n",
              "    <tr>\n",
              "      <th>Price</th>\n",
              "      <th>Date</th>\n",
              "      <th>Close</th>\n",
              "      <th>High</th>\n",
              "      <th>Low</th>\n",
              "      <th>Open</th>\n",
              "      <th>Volume</th>\n",
              "    </tr>\n",
              "    <tr>\n",
              "      <th>Ticker</th>\n",
              "      <th></th>\n",
              "      <th>TSLA</th>\n",
              "      <th>TSLA</th>\n",
              "      <th>TSLA</th>\n",
              "      <th>TSLA</th>\n",
              "      <th>TSLA</th>\n",
              "    </tr>\n",
              "  </thead>\n",
              "  <tbody>\n",
              "    <tr>\n",
              "      <th>0</th>\n",
              "      <td>2012-01-03</td>\n",
              "      <td>1.872000</td>\n",
              "      <td>1.966667</td>\n",
              "      <td>1.843333</td>\n",
              "      <td>1.929333</td>\n",
              "      <td>13921500</td>\n",
              "    </tr>\n",
              "    <tr>\n",
              "      <th>1</th>\n",
              "      <td>2012-01-04</td>\n",
              "      <td>1.847333</td>\n",
              "      <td>1.911333</td>\n",
              "      <td>1.833333</td>\n",
              "      <td>1.880667</td>\n",
              "      <td>9451500</td>\n",
              "    </tr>\n",
              "    <tr>\n",
              "      <th>2</th>\n",
              "      <td>2012-01-05</td>\n",
              "      <td>1.808000</td>\n",
              "      <td>1.862000</td>\n",
              "      <td>1.790000</td>\n",
              "      <td>1.850667</td>\n",
              "      <td>15082500</td>\n",
              "    </tr>\n",
              "    <tr>\n",
              "      <th>3</th>\n",
              "      <td>2012-01-06</td>\n",
              "      <td>1.794000</td>\n",
              "      <td>1.852667</td>\n",
              "      <td>1.760667</td>\n",
              "      <td>1.813333</td>\n",
              "      <td>14794500</td>\n",
              "    </tr>\n",
              "    <tr>\n",
              "      <th>4</th>\n",
              "      <td>2012-01-09</td>\n",
              "      <td>1.816667</td>\n",
              "      <td>1.832667</td>\n",
              "      <td>1.741333</td>\n",
              "      <td>1.800000</td>\n",
              "      <td>13455000</td>\n",
              "    </tr>\n",
              "    <tr>\n",
              "      <th>...</th>\n",
              "      <td>...</td>\n",
              "      <td>...</td>\n",
              "      <td>...</td>\n",
              "      <td>...</td>\n",
              "      <td>...</td>\n",
              "      <td>...</td>\n",
              "    </tr>\n",
              "    <tr>\n",
              "      <th>3136</th>\n",
              "      <td>2024-06-21</td>\n",
              "      <td>183.009995</td>\n",
              "      <td>183.949997</td>\n",
              "      <td>180.690002</td>\n",
              "      <td>182.300003</td>\n",
              "      <td>63029500</td>\n",
              "    </tr>\n",
              "    <tr>\n",
              "      <th>3137</th>\n",
              "      <td>2024-06-24</td>\n",
              "      <td>182.580002</td>\n",
              "      <td>188.800003</td>\n",
              "      <td>182.550003</td>\n",
              "      <td>184.970001</td>\n",
              "      <td>61992100</td>\n",
              "    </tr>\n",
              "    <tr>\n",
              "      <th>3138</th>\n",
              "      <td>2024-06-25</td>\n",
              "      <td>187.350006</td>\n",
              "      <td>187.970001</td>\n",
              "      <td>182.009995</td>\n",
              "      <td>184.399994</td>\n",
              "      <td>63678300</td>\n",
              "    </tr>\n",
              "    <tr>\n",
              "      <th>3139</th>\n",
              "      <td>2024-06-26</td>\n",
              "      <td>196.369995</td>\n",
              "      <td>197.759995</td>\n",
              "      <td>186.360001</td>\n",
              "      <td>186.539993</td>\n",
              "      <td>95737100</td>\n",
              "    </tr>\n",
              "    <tr>\n",
              "      <th>3140</th>\n",
              "      <td>2024-06-27</td>\n",
              "      <td>197.419998</td>\n",
              "      <td>198.720001</td>\n",
              "      <td>194.050003</td>\n",
              "      <td>195.169998</td>\n",
              "      <td>72746500</td>\n",
              "    </tr>\n",
              "  </tbody>\n",
              "</table>\n",
              "<p>3141 rows × 6 columns</p>\n",
              "</div>\n",
              "    <div class=\"colab-df-buttons\">\n",
              "\n",
              "  <div class=\"colab-df-container\">\n",
              "    <button class=\"colab-df-convert\" onclick=\"convertToInteractive('df-763088fc-a4bf-43e4-9aac-a9900475059f')\"\n",
              "            title=\"Convert this dataframe to an interactive table.\"\n",
              "            style=\"display:none;\">\n",
              "\n",
              "  <svg xmlns=\"http://www.w3.org/2000/svg\" height=\"24px\" viewBox=\"0 -960 960 960\">\n",
              "    <path d=\"M120-120v-720h720v720H120Zm60-500h600v-160H180v160Zm220 220h160v-160H400v160Zm0 220h160v-160H400v160ZM180-400h160v-160H180v160Zm440 0h160v-160H620v160ZM180-180h160v-160H180v160Zm440 0h160v-160H620v160Z\"/>\n",
              "  </svg>\n",
              "    </button>\n",
              "\n",
              "  <style>\n",
              "    .colab-df-container {\n",
              "      display:flex;\n",
              "      gap: 12px;\n",
              "    }\n",
              "\n",
              "    .colab-df-convert {\n",
              "      background-color: #E8F0FE;\n",
              "      border: none;\n",
              "      border-radius: 50%;\n",
              "      cursor: pointer;\n",
              "      display: none;\n",
              "      fill: #1967D2;\n",
              "      height: 32px;\n",
              "      padding: 0 0 0 0;\n",
              "      width: 32px;\n",
              "    }\n",
              "\n",
              "    .colab-df-convert:hover {\n",
              "      background-color: #E2EBFA;\n",
              "      box-shadow: 0px 1px 2px rgba(60, 64, 67, 0.3), 0px 1px 3px 1px rgba(60, 64, 67, 0.15);\n",
              "      fill: #174EA6;\n",
              "    }\n",
              "\n",
              "    .colab-df-buttons div {\n",
              "      margin-bottom: 4px;\n",
              "    }\n",
              "\n",
              "    [theme=dark] .colab-df-convert {\n",
              "      background-color: #3B4455;\n",
              "      fill: #D2E3FC;\n",
              "    }\n",
              "\n",
              "    [theme=dark] .colab-df-convert:hover {\n",
              "      background-color: #434B5C;\n",
              "      box-shadow: 0px 1px 3px 1px rgba(0, 0, 0, 0.15);\n",
              "      filter: drop-shadow(0px 1px 2px rgba(0, 0, 0, 0.3));\n",
              "      fill: #FFFFFF;\n",
              "    }\n",
              "  </style>\n",
              "\n",
              "    <script>\n",
              "      const buttonEl =\n",
              "        document.querySelector('#df-763088fc-a4bf-43e4-9aac-a9900475059f button.colab-df-convert');\n",
              "      buttonEl.style.display =\n",
              "        google.colab.kernel.accessAllowed ? 'block' : 'none';\n",
              "\n",
              "      async function convertToInteractive(key) {\n",
              "        const element = document.querySelector('#df-763088fc-a4bf-43e4-9aac-a9900475059f');\n",
              "        const dataTable =\n",
              "          await google.colab.kernel.invokeFunction('convertToInteractive',\n",
              "                                                    [key], {});\n",
              "        if (!dataTable) return;\n",
              "\n",
              "        const docLinkHtml = 'Like what you see? Visit the ' +\n",
              "          '<a target=\"_blank\" href=https://colab.research.google.com/notebooks/data_table.ipynb>data table notebook</a>'\n",
              "          + ' to learn more about interactive tables.';\n",
              "        element.innerHTML = '';\n",
              "        dataTable['output_type'] = 'display_data';\n",
              "        await google.colab.output.renderOutput(dataTable, element);\n",
              "        const docLink = document.createElement('div');\n",
              "        docLink.innerHTML = docLinkHtml;\n",
              "        element.appendChild(docLink);\n",
              "      }\n",
              "    </script>\n",
              "  </div>\n",
              "\n",
              "\n",
              "<div id=\"df-ec20f8be-1fa0-495e-902b-d3842f97fbfe\">\n",
              "  <button class=\"colab-df-quickchart\" onclick=\"quickchart('df-ec20f8be-1fa0-495e-902b-d3842f97fbfe')\"\n",
              "            title=\"Suggest charts\"\n",
              "            style=\"display:none;\">\n",
              "\n",
              "<svg xmlns=\"http://www.w3.org/2000/svg\" height=\"24px\"viewBox=\"0 0 24 24\"\n",
              "     width=\"24px\">\n",
              "    <g>\n",
              "        <path d=\"M19 3H5c-1.1 0-2 .9-2 2v14c0 1.1.9 2 2 2h14c1.1 0 2-.9 2-2V5c0-1.1-.9-2-2-2zM9 17H7v-7h2v7zm4 0h-2V7h2v10zm4 0h-2v-4h2v4z\"/>\n",
              "    </g>\n",
              "</svg>\n",
              "  </button>\n",
              "\n",
              "<style>\n",
              "  .colab-df-quickchart {\n",
              "      --bg-color: #E8F0FE;\n",
              "      --fill-color: #1967D2;\n",
              "      --hover-bg-color: #E2EBFA;\n",
              "      --hover-fill-color: #174EA6;\n",
              "      --disabled-fill-color: #AAA;\n",
              "      --disabled-bg-color: #DDD;\n",
              "  }\n",
              "\n",
              "  [theme=dark] .colab-df-quickchart {\n",
              "      --bg-color: #3B4455;\n",
              "      --fill-color: #D2E3FC;\n",
              "      --hover-bg-color: #434B5C;\n",
              "      --hover-fill-color: #FFFFFF;\n",
              "      --disabled-bg-color: #3B4455;\n",
              "      --disabled-fill-color: #666;\n",
              "  }\n",
              "\n",
              "  .colab-df-quickchart {\n",
              "    background-color: var(--bg-color);\n",
              "    border: none;\n",
              "    border-radius: 50%;\n",
              "    cursor: pointer;\n",
              "    display: none;\n",
              "    fill: var(--fill-color);\n",
              "    height: 32px;\n",
              "    padding: 0;\n",
              "    width: 32px;\n",
              "  }\n",
              "\n",
              "  .colab-df-quickchart:hover {\n",
              "    background-color: var(--hover-bg-color);\n",
              "    box-shadow: 0 1px 2px rgba(60, 64, 67, 0.3), 0 1px 3px 1px rgba(60, 64, 67, 0.15);\n",
              "    fill: var(--button-hover-fill-color);\n",
              "  }\n",
              "\n",
              "  .colab-df-quickchart-complete:disabled,\n",
              "  .colab-df-quickchart-complete:disabled:hover {\n",
              "    background-color: var(--disabled-bg-color);\n",
              "    fill: var(--disabled-fill-color);\n",
              "    box-shadow: none;\n",
              "  }\n",
              "\n",
              "  .colab-df-spinner {\n",
              "    border: 2px solid var(--fill-color);\n",
              "    border-color: transparent;\n",
              "    border-bottom-color: var(--fill-color);\n",
              "    animation:\n",
              "      spin 1s steps(1) infinite;\n",
              "  }\n",
              "\n",
              "  @keyframes spin {\n",
              "    0% {\n",
              "      border-color: transparent;\n",
              "      border-bottom-color: var(--fill-color);\n",
              "      border-left-color: var(--fill-color);\n",
              "    }\n",
              "    20% {\n",
              "      border-color: transparent;\n",
              "      border-left-color: var(--fill-color);\n",
              "      border-top-color: var(--fill-color);\n",
              "    }\n",
              "    30% {\n",
              "      border-color: transparent;\n",
              "      border-left-color: var(--fill-color);\n",
              "      border-top-color: var(--fill-color);\n",
              "      border-right-color: var(--fill-color);\n",
              "    }\n",
              "    40% {\n",
              "      border-color: transparent;\n",
              "      border-right-color: var(--fill-color);\n",
              "      border-top-color: var(--fill-color);\n",
              "    }\n",
              "    60% {\n",
              "      border-color: transparent;\n",
              "      border-right-color: var(--fill-color);\n",
              "    }\n",
              "    80% {\n",
              "      border-color: transparent;\n",
              "      border-right-color: var(--fill-color);\n",
              "      border-bottom-color: var(--fill-color);\n",
              "    }\n",
              "    90% {\n",
              "      border-color: transparent;\n",
              "      border-bottom-color: var(--fill-color);\n",
              "    }\n",
              "  }\n",
              "</style>\n",
              "\n",
              "  <script>\n",
              "    async function quickchart(key) {\n",
              "      const quickchartButtonEl =\n",
              "        document.querySelector('#' + key + ' button');\n",
              "      quickchartButtonEl.disabled = true;  // To prevent multiple clicks.\n",
              "      quickchartButtonEl.classList.add('colab-df-spinner');\n",
              "      try {\n",
              "        const charts = await google.colab.kernel.invokeFunction(\n",
              "            'suggestCharts', [key], {});\n",
              "      } catch (error) {\n",
              "        console.error('Error during call to suggestCharts:', error);\n",
              "      }\n",
              "      quickchartButtonEl.classList.remove('colab-df-spinner');\n",
              "      quickchartButtonEl.classList.add('colab-df-quickchart-complete');\n",
              "    }\n",
              "    (() => {\n",
              "      let quickchartButtonEl =\n",
              "        document.querySelector('#df-ec20f8be-1fa0-495e-902b-d3842f97fbfe button');\n",
              "      quickchartButtonEl.style.display =\n",
              "        google.colab.kernel.accessAllowed ? 'block' : 'none';\n",
              "    })();\n",
              "  </script>\n",
              "</div>\n",
              "\n",
              "  <div id=\"id_b954bb10-d65f-46a8-b01d-c6a6eb7e64d1\">\n",
              "    <style>\n",
              "      .colab-df-generate {\n",
              "        background-color: #E8F0FE;\n",
              "        border: none;\n",
              "        border-radius: 50%;\n",
              "        cursor: pointer;\n",
              "        display: none;\n",
              "        fill: #1967D2;\n",
              "        height: 32px;\n",
              "        padding: 0 0 0 0;\n",
              "        width: 32px;\n",
              "      }\n",
              "\n",
              "      .colab-df-generate:hover {\n",
              "        background-color: #E2EBFA;\n",
              "        box-shadow: 0px 1px 2px rgba(60, 64, 67, 0.3), 0px 1px 3px 1px rgba(60, 64, 67, 0.15);\n",
              "        fill: #174EA6;\n",
              "      }\n",
              "\n",
              "      [theme=dark] .colab-df-generate {\n",
              "        background-color: #3B4455;\n",
              "        fill: #D2E3FC;\n",
              "      }\n",
              "\n",
              "      [theme=dark] .colab-df-generate:hover {\n",
              "        background-color: #434B5C;\n",
              "        box-shadow: 0px 1px 3px 1px rgba(0, 0, 0, 0.15);\n",
              "        filter: drop-shadow(0px 1px 2px rgba(0, 0, 0, 0.3));\n",
              "        fill: #FFFFFF;\n",
              "      }\n",
              "    </style>\n",
              "    <button class=\"colab-df-generate\" onclick=\"generateWithVariable('data')\"\n",
              "            title=\"Generate code using this dataframe.\"\n",
              "            style=\"display:none;\">\n",
              "\n",
              "  <svg xmlns=\"http://www.w3.org/2000/svg\" height=\"24px\"viewBox=\"0 0 24 24\"\n",
              "       width=\"24px\">\n",
              "    <path d=\"M7,19H8.4L18.45,9,17,7.55,7,17.6ZM5,21V16.75L18.45,3.32a2,2,0,0,1,2.83,0l1.4,1.43a1.91,1.91,0,0,1,.58,1.4,1.91,1.91,0,0,1-.58,1.4L9.25,21ZM18.45,9,17,7.55Zm-12,3A5.31,5.31,0,0,0,4.9,8.1,5.31,5.31,0,0,0,1,6.5,5.31,5.31,0,0,0,4.9,4.9,5.31,5.31,0,0,0,6.5,1,5.31,5.31,0,0,0,8.1,4.9,5.31,5.31,0,0,0,12,6.5,5.46,5.46,0,0,0,6.5,12Z\"/>\n",
              "  </svg>\n",
              "    </button>\n",
              "    <script>\n",
              "      (() => {\n",
              "      const buttonEl =\n",
              "        document.querySelector('#id_b954bb10-d65f-46a8-b01d-c6a6eb7e64d1 button.colab-df-generate');\n",
              "      buttonEl.style.display =\n",
              "        google.colab.kernel.accessAllowed ? 'block' : 'none';\n",
              "\n",
              "      buttonEl.onclick = () => {\n",
              "        google.colab.notebook.generateWithVariable('data');\n",
              "      }\n",
              "      })();\n",
              "    </script>\n",
              "  </div>\n",
              "\n",
              "    </div>\n",
              "  </div>\n"
            ],
            "application/vnd.google.colaboratory.intrinsic+json": {
              "type": "dataframe",
              "variable_name": "data",
              "summary": "{\n  \"name\": \"data\",\n  \"rows\": 3141,\n  \"fields\": [\n    {\n      \"column\": [\n        \"Date\",\n        \"\"\n      ],\n      \"properties\": {\n        \"dtype\": \"date\",\n        \"min\": \"2012-01-03 00:00:00\",\n        \"max\": \"2024-06-27 00:00:00\",\n        \"num_unique_values\": 3141,\n        \"samples\": [\n          \"2023-07-06 00:00:00\",\n          \"2023-10-20 00:00:00\",\n          \"2016-03-29 00:00:00\"\n        ],\n        \"semantic_type\": \"\",\n        \"description\": \"\"\n      }\n    },\n    {\n      \"column\": [\n        \"Close\",\n        \"TSLA\"\n      ],\n      \"properties\": {\n        \"dtype\": \"number\",\n        \"std\": 104.56987426648902,\n        \"min\": 1.519333004951477,\n        \"max\": 409.9700012207031,\n        \"num_unique_values\": 3028,\n        \"samples\": [\n          17.472000122070312,\n          2.512666940689087,\n          268.5733337402344\n        ],\n        \"semantic_type\": \"\",\n        \"description\": \"\"\n      }\n    },\n    {\n      \"column\": [\n        \"High\",\n        \"TSLA\"\n      ],\n      \"properties\": {\n        \"dtype\": \"number\",\n        \"std\": 106.96179838654095,\n        \"min\": 1.7899999618530273,\n        \"max\": 414.4966735839844,\n        \"num_unique_values\": 2931,\n        \"samples\": [\n          21.09000015258789,\n          295.4800109863281,\n          215.6699981689453\n        ],\n        \"semantic_type\": \"\",\n        \"description\": \"\"\n      }\n    },\n    {\n      \"column\": [\n        \"Low\",\n        \"TSLA\"\n      ],\n      \"properties\": {\n        \"dtype\": \"number\",\n        \"std\": 102.11858567613733,\n        \"min\": 1.5093330144882202,\n        \"max\": 405.6666564941406,\n        \"num_unique_values\": 2948,\n        \"samples\": [\n          15.633333206176758,\n          19.786666870117188,\n          211.61000061035156\n        ],\n        \"semantic_type\": \"\",\n        \"description\": \"\"\n      }\n    },\n    {\n      \"column\": [\n        \"Open\",\n        \"TSLA\"\n      ],\n      \"properties\": {\n        \"dtype\": \"number\",\n        \"std\": 104.65572236849712,\n        \"min\": 1.7746670246124268,\n        \"max\": 411.4700012207031,\n        \"num_unique_values\": 2952,\n        \"samples\": [\n          20.399999618530273,\n          252.38333129882812,\n          360.3833312988281\n        ],\n        \"semantic_type\": \"\",\n        \"description\": \"\"\n      }\n    },\n    {\n      \"column\": [\n        \"Volume\",\n        \"TSLA\"\n      ],\n      \"properties\": {\n        \"dtype\": \"number\",\n        \"std\": 78084842,\n        \"min\": 5473500,\n        \"max\": 914082000,\n        \"num_unique_values\": 3120,\n        \"samples\": [\n          109498600,\n          132353200,\n          245517000\n        ],\n        \"semantic_type\": \"\",\n        \"description\": \"\"\n      }\n    }\n  ]\n}"
            }
          },
          "metadata": {},
          "execution_count": 5
        }
      ],
      "source": [
        "data"
      ]
    },
    {
      "cell_type": "code",
      "execution_count": null,
      "id": "8a478e83-6aee-4809-9405-be6f8b65b16a",
      "metadata": {
        "id": "8a478e83-6aee-4809-9405-be6f8b65b16a"
      },
      "outputs": [],
      "source": [
        "ma_100_days = data.Close.rolling(100).mean()"
      ]
    },
    {
      "cell_type": "code",
      "execution_count": null,
      "id": "fc840124-ef3e-40b0-9e74-aa5a174c4c50",
      "metadata": {
        "colab": {
          "base_uri": "https://localhost:8080/",
          "height": 522
        },
        "id": "fc840124-ef3e-40b0-9e74-aa5a174c4c50",
        "outputId": "e634335b-eef4-46f9-9597-c5bdee0f7e1e"
      },
      "outputs": [
        {
          "output_type": "display_data",
          "data": {
            "text/plain": [
              "<Figure size 800x600 with 1 Axes>"
            ],
            "image/png": "[encoded data removed]"
          },
          "metadata": {}
        }
      ],
      "source": [
        "plt.figure(figsize=(8,6))\n",
        "plt.plot(ma_100_days, 'r')\n",
        "plt.plot(data.Close, 'g')\n",
        "plt.show()"
      ]
    },
    {
      "cell_type": "code",
      "execution_count": null,
      "id": "1158c05f-1a2c-41f8-8add-85720074cdcd",
      "metadata": {
        "id": "1158c05f-1a2c-41f8-8add-85720074cdcd"
      },
      "outputs": [],
      "source": [
        "ma_200_days = data.Close.rolling(200).mean()"
      ]
    },
    {
      "cell_type": "code",
      "execution_count": null,
      "id": "97a1b79b-2302-43d7-883a-a0a255c864bf",
      "metadata": {
        "colab": {
          "base_uri": "https://localhost:8080/",
          "height": 522
        },
        "id": "97a1b79b-2302-43d7-883a-a0a255c864bf",
        "outputId": "2db6e04a-a823-4335-f748-6dc8ffbc551e"
      },
      "outputs": [
        {
          "output_type": "display_data",
          "data": {
            "text/plain": [
              "<Figure size 800x600 with 1 Axes>"
            ],
            "image/png": "[encoded data removed]"
          },
          "metadata": {}
        }
      ],
      "source": [
        "plt.figure(figsize=(8,6))\n",
        "plt.plot(ma_100_days, 'r')\n",
        "plt.plot(ma_200_days,'b')\n",
        "plt.plot(data.Close,'g')\n",
        "plt.show()"
      ]
    },
    {
      "cell_type": "code",
      "execution_count": null,
      "id": "0ac073de-1a30-487c-a1f8-c809cbba06db",
      "metadata": {
        "id": "0ac073de-1a30-487c-a1f8-c809cbba06db"
      },
      "outputs": [],
      "source": [
        "data.dropna(inplace=True)"
      ]
    },
    {
      "cell_type": "code",
      "execution_count": null,
      "id": "64246466-177b-46f9-b4eb-6ee5005bfd6b",
      "metadata": {
        "id": "64246466-177b-46f9-b4eb-6ee5005bfd6b"
      },
      "outputs": [],
      "source": [
        "data_train = pd.DataFrame(data.Close[0: int(len(data)*0.80)])\n",
        "data_test = pd.DataFrame(data.Close[int(len(data)*0.80): len(data)])"
      ]
    },
    {
      "cell_type": "code",
      "execution_count": null,
      "id": "0f4c0b4b-2b5e-4f62-bd84-47a86ed3da3e",
      "metadata": {
        "colab": {
          "base_uri": "https://localhost:8080/"
        },
        "id": "0f4c0b4b-2b5e-4f62-bd84-47a86ed3da3e",
        "outputId": "62c9300b-7a1e-4f70-ba05-3142eb82b52a"
      },
      "outputs": [
        {
          "output_type": "execute_result",
          "data": {
            "text/plain": [
              "2512"
            ]
          },
          "metadata": {},
          "execution_count": 12
        }
      ],
      "source": [
        "data_train.shape[0]"
      ]
    },
    {
      "cell_type": "code",
      "execution_count": null,
      "id": "0a609554-633d-4edf-abc1-21bd874a3cd1",
      "metadata": {
        "colab": {
          "base_uri": "https://localhost:8080/"
        },
        "id": "0a609554-633d-4edf-abc1-21bd874a3cd1",
        "outputId": "1658880d-b782-41ae-f48c-e313e8e68e1e"
      },
      "outputs": [
        {
          "output_type": "execute_result",
          "data": {
            "text/plain": [
              "629"
            ]
          },
          "metadata": {},
          "execution_count": 13
        }
      ],
      "source": [
        "data_test.shape[0]"
      ]
    },
    {
      "cell_type": "code",
      "execution_count": null,
      "id": "d5144e93-eab7-479f-9fde-9bf8c5786dc6",
      "metadata": {
        "id": "d5144e93-eab7-479f-9fde-9bf8c5786dc6"
      },
      "outputs": [],
      "source": [
        "from sklearn.preprocessing import MinMaxScaler\n",
        "scaler = MinMaxScaler(feature_range=(0,1))"
      ]
    },
    {
      "cell_type": "code",
      "execution_count": null,
      "id": "4c2793bd-1def-45f7-8fd2-9115eed1c2c1",
      "metadata": {
        "id": "4c2793bd-1def-45f7-8fd2-9115eed1c2c1"
      },
      "outputs": [],
      "source": [
        "data_train_scale = scaler.fit_transform(data_train)"
      ]
    },
    {
      "cell_type": "code",
      "execution_count": null,
      "id": "d55d63c2-132a-40b5-9398-e576ceba14fd",
      "metadata": {
        "id": "d55d63c2-132a-40b5-9398-e576ceba14fd"
      },
      "outputs": [],
      "source": [
        "x = []\n",
        "y = []\n",
        "\n",
        "for i in range(100, data_train_scale.shape[0]):\n",
        "    x.append(data_train_scale[i-100:i])\n",
        "    y.append(data_train_scale[i,0])\n"
      ]
    },
    {
      "cell_type": "code",
      "execution_count": null,
      "id": "998369e6-f1ad-4cf5-af58-0aa5b7aa315c",
      "metadata": {
        "id": "998369e6-f1ad-4cf5-af58-0aa5b7aa315c"
      },
      "outputs": [],
      "source": [
        "x, y = np.array(x), np.array(y)"
      ]
    },
    {
      "cell_type": "code",
      "execution_count": null,
      "id": "3c9c6717-e792-4206-960f-0689203555ca",
      "metadata": {
        "id": "3c9c6717-e792-4206-960f-0689203555ca"
      },
      "outputs": [],
      "source": [
        "from keras.layers import Dense, Dropout, LSTM\n",
        "from keras.models import Sequential"
      ]
    },
    {
      "cell_type": "code",
      "execution_count": null,
      "id": "14867cd4-c1ed-4cf9-b339-245bfaec0852",
      "metadata": {
        "id": "14867cd4-c1ed-4cf9-b339-245bfaec0852",
        "colab": {
          "base_uri": "https://localhost:8080/"
        },
        "outputId": "dac1ff12-5afd-4056-d889-ebb09bda0d12"
      },
      "outputs": [
        {
          "output_type": "stream",
          "name": "stderr",
          "text": [
            "/usr/local/lib/python3.10/dist-packages/keras/src/layers/rnn/rnn.py:204: UserWarning: Do not pass an `input_shape`/`input_dim` argument to a layer. When using Sequential models, prefer using an `Input(shape)` object as the first layer in the model instead.\n",
            "  super().__init__(**kwargs)\n"
          ]
        }
      ],
      "source": [
        "model = Sequential()\n",
        "model.add(LSTM(units = 50, activation = 'relu', return_sequences = True,\n",
        "               input_shape = ((x.shape[1],1))))\n",
        "model.add(Dropout(0.2))\n",
        "\n",
        "model.add(LSTM(units = 60, activation='relu', return_sequences = True))\n",
        "model.add(Dropout(0.3))\n",
        "\n",
        "model.add(LSTM(units = 80, activation = 'relu', return_sequences = True))\n",
        "model.add(Dropout(0.4))\n",
        "\n",
        "model.add(LSTM(units = 120, activation = 'relu'))\n",
        "model.add(Dropout(0.5))\n",
        "\n",
        "model.add(Dense(units =1))"
      ]
    },
    {
      "cell_type": "code",
      "execution_count": null,
      "id": "c69edcc2-b11d-4702-8a6c-f6a6e677e79a",
      "metadata": {
        "id": "c69edcc2-b11d-4702-8a6c-f6a6e677e79a"
      },
      "outputs": [],
      "source": [
        "model.compile(optimizer = 'adam', loss = 'mean_squared_error')"
      ]
    },
    {
      "cell_type": "code",
      "execution_count": null,
      "id": "f36e439a-0106-4108-9630-7cdd7e5428e4",
      "metadata": {
        "colab": {
          "base_uri": "https://localhost:8080/"
        },
        "id": "f36e439a-0106-4108-9630-7cdd7e5428e4",
        "outputId": "69d3daf1-76bd-49c9-c20e-c92a862bed24"
      },
      "outputs": [
        {
          "output_type": "stream",
          "name": "stdout",
          "text": [
            "Epoch 1/50\n"
          ]
        }
      ],
      "source": [
        "model.fit(x,y, epochs = 50, batch_size =32, verbose =1)"
      ]
    },
    {
      "cell_type": "code",
      "execution_count": null,
      "id": "62f9decd-83a6-4c03-8963-dc3298b2a104",
      "metadata": {
        "id": "62f9decd-83a6-4c03-8963-dc3298b2a104"
      },
      "outputs": [],
      "source": [
        "model.summary()"
      ]
    },
    {
      "cell_type": "code",
      "execution_count": null,
      "id": "89cf9dc7-4e14-4c80-82bc-d6dcac8c98a2",
      "metadata": {
        "id": "89cf9dc7-4e14-4c80-82bc-d6dcac8c98a2"
      },
      "outputs": [],
      "source": [
        "pas_100_days = data_train.tail(100)"
      ]
    },
    {
      "cell_type": "code",
      "execution_count": null,
      "id": "67ef7a1e-63cc-4874-9b61-634026572822",
      "metadata": {
        "id": "67ef7a1e-63cc-4874-9b61-634026572822"
      },
      "outputs": [],
      "source": [
        "data_test = pd.concat([pas_100_days, data_test], ignore_index=True)"
      ]
    },
    {
      "cell_type": "code",
      "execution_count": null,
      "id": "7a0512e4-0eaf-4137-b61d-8bb0e48ca041",
      "metadata": {
        "id": "7a0512e4-0eaf-4137-b61d-8bb0e48ca041"
      },
      "outputs": [],
      "source": [
        "data_test_scale  =  scaler.fit_transform(data_test)"
      ]
    },
    {
      "cell_type": "code",
      "execution_count": null,
      "id": "536de9d0-2cc7-41dd-b500-affd3e3fec9d",
      "metadata": {
        "id": "536de9d0-2cc7-41dd-b500-affd3e3fec9d"
      },
      "outputs": [],
      "source": [
        "x = []\n",
        "y = []\n",
        "\n",
        "for i in range(100, data_test_scale.shape[0]):\n",
        "    x.append(data_test_scale[i-100:i])\n",
        "    y.append(data_test_scale[i,0])\n",
        "x, y = np.array(x), np.array(y)"
      ]
    },
    {
      "cell_type": "code",
      "execution_count": null,
      "id": "4602f57f-8832-4bf6-a50e-bb5164ff7872",
      "metadata": {
        "id": "4602f57f-8832-4bf6-a50e-bb5164ff7872"
      },
      "outputs": [],
      "source": [
        "y_predict = model.predict(x)"
      ]
    },
    {
      "cell_type": "code",
      "execution_count": null,
      "id": "ca2d2d64-b69a-4eb3-b4f6-5356bfb5b74a",
      "metadata": {
        "id": "ca2d2d64-b69a-4eb3-b4f6-5356bfb5b74a"
      },
      "outputs": [],
      "source": [
        "scale =1/scaler.scale_"
      ]
    },
    {
      "cell_type": "code",
      "execution_count": null,
      "id": "b3e3794a-785d-4ac8-96a3-70fab6259f1c",
      "metadata": {
        "id": "b3e3794a-785d-4ac8-96a3-70fab6259f1c"
      },
      "outputs": [],
      "source": [
        "y_predict = y_predict*scale"
      ]
    },
    {
      "cell_type": "code",
      "execution_count": null,
      "id": "5acb458b-7488-4860-9ccd-8999d67510f7",
      "metadata": {
        "id": "5acb458b-7488-4860-9ccd-8999d67510f7"
      },
      "outputs": [],
      "source": [
        "y = y*scale"
      ]
    },
    {
      "cell_type": "code",
      "execution_count": null,
      "id": "6ab280be-9494-4ea1-baf2-45fc38130366",
      "metadata": {
        "id": "6ab280be-9494-4ea1-baf2-45fc38130366"
      },
      "outputs": [],
      "source": [
        "plt.figure(figsize=(10,8))\n",
        "plt.plot(y_predict, 'r', label = 'Predicted Price')\n",
        "plt.plot(y, 'g', label = 'Original Price')\n",
        "plt.xlabel('Time')\n",
        "plt.ylabel('Price')\n",
        "plt.legend()\n",
        "plt.show()"
      ]
    },
    {
      "cell_type": "code",
      "execution_count": null,
      "id": "22143940-722e-4c05-8b46-d2f7d9abb882",
      "metadata": {
        "id": "22143940-722e-4c05-8b46-d2f7d9abb882"
      },
      "outputs": [],
      "source": [
        "model.save('Stock Predictions Model.keras')"
      ]
    },
    {
      "cell_type": "code",
      "execution_count": null,
      "id": "bd3bc001-da88-44ba-85d1-9b72ebfde3a6",
      "metadata": {
        "id": "bd3bc001-da88-44ba-85d1-9b72ebfde3a6"
      },
      "outputs": [],
      "source": []
    }
  ],
  "metadata": {
    "kernelspec": {
      "display_name": "Python 3 (ipykernel)",
      "language": "python",
      "name": "python3"
    },
    "language_info": {
      "codemirror_mode": {
        "name": "ipython",
        "version": 3
      },
      "file_extension": ".py",
      "mimetype": "text/x-python",
      "name": "python",
      "nbconvert_exporter": "python",
      "pygments_lexer": "ipython3",
      "version": "3.11.6"
    },
    "colab": {
      "provenance": []
    }
  },
  "nbformat": 4,
  "nbformat_minor": 5
}